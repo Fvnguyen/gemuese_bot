{
 "cells": [
  {
   "cell_type": "code",
   "execution_count": 1,
   "metadata": {},
   "outputs": [],
   "source": [
    "# Let's make a dice bot\n",
    "import random\n",
    "import time\n",
    "import logging\n",
    "import os\n",
    "import pandas as pd\n",
    "from datetime import datetime\n",
    "\n",
    "# Gemuesefunktionen\n",
    "ledger = pd.read_csv(\"gemuese_de.csv\",encoding = \"utf-8\", sep = \";\")\n",
    "def seasonal():\n",
    "    current_month = datetime.today().month\n",
    "    seasonal = ledger.query(\"Month == \"+str(current_month)).query(\"Seasonal == True\")[\"gemuese\"].tolist()\n",
    "    return seasonal\n",
    "\n",
    "def suggestion():\n",
    "    suggestion = random.choice(seasonal())\n",
    "    return suggestion\n",
    "\n",
    "def look_up(veggie):\n",
    "    approval = veggie.lower() in [x.lower() for x in seasonal()]\n",
    "    if approval:\n",
    "        approval = \"Mmmmh, Saisonal...( ͡° ͜ʖ ͡°)\"\n",
    "    else:\n",
    "        approval = \"Igitt, importiert ಠ_ಠ\"\n",
    "    return approval"
   ]
  },
  {
   "cell_type": "code",
   "execution_count": 11,
   "metadata": {},
   "outputs": [],
   "source": [
    "import re\n",
    "#Calculates the normalized Levenshtein distance of 2 strings\n",
    "def levenshtein(s1, s2):\n",
    "    l1 = len(s1)\n",
    "    l2 = len(s2)\n",
    "    matrix = [list(range(l1 + 1))] * (l2 + 1)\n",
    "    for zz in list(range(l2 + 1)):\n",
    "      matrix[zz] = list(range(zz,zz + l1 + 1))\n",
    "    for zz in list(range(0,l2)):\n",
    "      for sz in list(range(0,l1)):\n",
    "        if s1[sz] == s2[zz]:\n",
    "          matrix[zz+1][sz+1] = min(matrix[zz+1][sz] + 1, matrix[zz][sz+1] + 1, matrix[zz][sz])\n",
    "        else:\n",
    "          matrix[zz+1][sz+1] = min(matrix[zz+1][sz] + 1, matrix[zz][sz+1] + 1, matrix[zz][sz] + 1)\n",
    "    distance = float(matrix[l2][l1])\n",
    "    result = 1.0-distance/max(l1,l2)\n",
    "    return result\n",
    "\n",
    "\n",
    "#Untested matching function\n",
    "def matching(text,master_list):\n",
    "    result_list = [levenshtein(text, x) for x in master_list]\n",
    "    result = max(result_list)\n",
    "    return result"
   ]
  },
  {
   "cell_type": "code",
   "execution_count": 12,
   "metadata": {},
   "outputs": [
    {
     "data": {
      "text/plain": [
       "0.8333333333333334"
      ]
     },
     "execution_count": 12,
     "metadata": {},
     "output_type": "execute_result"
    }
   ],
   "source": [
    "matching(\"Bohne\",seasonal())"
   ]
  },
  {
   "cell_type": "code",
   "execution_count": null,
   "metadata": {},
   "outputs": [],
   "source": []
  }
 ],
 "metadata": {
  "kernelspec": {
   "display_name": "Python 3",
   "language": "python",
   "name": "python3"
  },
  "language_info": {
   "codemirror_mode": {
    "name": "ipython",
    "version": 3
   },
   "file_extension": ".py",
   "mimetype": "text/x-python",
   "name": "python",
   "nbconvert_exporter": "python",
   "pygments_lexer": "ipython3",
   "version": "3.7.3"
  }
 },
 "nbformat": 4,
 "nbformat_minor": 2
}
