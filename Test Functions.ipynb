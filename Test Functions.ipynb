{
 "cells": [
  {
   "cell_type": "code",
   "execution_count": 4,
   "metadata": {},
   "outputs": [],
   "source": [
    "# Let's make a dice bot\n",
    "import random\n",
    "import time\n",
    "import logging\n",
    "import os\n",
    "import pandas as pd\n",
    "from datetime import datetime\n",
    "import test as vp\n",
    "\n",
    "# Gemuesefunktionen\n",
    "ledger = pd.read_csv(\"gemuese_full.csv\",encoding = \"utf-8\", sep = \",\")\n",
    "def seasonal():\n",
    "    current_month = datetime.today().month\n",
    "    seasonal = ledger.query(\"Month == \"+str(current_month)).query(\"Seasonal == True\")[\"gemuese\"].tolist()\n",
    "    return seasonal\n",
    "\n",
    "def unseasonal():\n",
    "    current_month = datetime.today().month\n",
    "    unseasonal = ledger.query(\"Month == \"+str(current_month)).query(\"Seasonal == False\")[\"vegetable\"].tolist()\n",
    "    return unseasonal\n",
    "\n",
    "def suggestion():\n",
    "    suggestion = random.choice(seasonal())\n",
    "    return suggestion\n",
    "\n",
    "def look_up(veggie):\n",
    "    approval = veggie.lower() in [x.lower() for x in seasonal()]\n",
    "    if approval:\n",
    "        approval = \"Mmmmh, Saisonal...( ͡° ͜ʖ ͡°)\"\n",
    "    else:\n",
    "        approval = \"Igitt, importiert ಠ_ಠ\"\n",
    "    return approval\n",
    "\n",
    "def in_list():\n",
    "    master = ledger[\"gemuese\"].tolist()\n",
    "    return master"
   ]
  },
  {
   "cell_type": "code",
   "execution_count": 13,
   "metadata": {},
   "outputs": [],
   "source": [
    "import re\n",
    "#Calculates the normalized Levenshtein distance of 2 strings\n",
    "def levenshtein(s1, s2):\n",
    "    l1 = len(s1)\n",
    "    l2 = len(s2)\n",
    "    matrix = [list(range(l1 + 1))] * (l2 + 1)\n",
    "    for zz in list(range(l2 + 1)):\n",
    "      matrix[zz] = list(range(zz,zz + l1 + 1))\n",
    "    for zz in list(range(0,l2)):\n",
    "      for sz in list(range(0,l1)):\n",
    "        if s1[sz] == s2[zz]:\n",
    "          matrix[zz+1][sz+1] = min(matrix[zz+1][sz] + 1, matrix[zz][sz+1] + 1, matrix[zz][sz])\n",
    "        else:\n",
    "          matrix[zz+1][sz+1] = min(matrix[zz+1][sz] + 1, matrix[zz][sz+1] + 1, matrix[zz][sz] + 1)\n",
    "    distance = float(matrix[l2][l1])\n",
    "    result = 1.0-distance/max(l1,l2)\n",
    "    return result\n",
    "\n",
    "\n",
    "#Untested matching function\n",
    "def matching(text,master_list):\n",
    "    result_list = [levenshtein(text, x) for x in master_list]\n",
    "    result = max(result_list)\n",
    "    return result"
   ]
  },
  {
   "cell_type": "code",
   "execution_count": 25,
   "metadata": {},
   "outputs": [],
   "source": [
    "from translate import Translator\n",
    "translator= Translator(from_lang='de',to_lang=\"en\")\n",
    "eng = [translator.translate(x) for x in set(in_list())] "
   ]
  },
  {
   "cell_type": "code",
   "execution_count": 16,
   "metadata": {},
   "outputs": [],
   "source": [
    "uniseasonal = []\n",
    "for x in unseasonal():\n",
    "    uniseasonal.append('excluded='+x)\n",
    "uniseasonal = '&'.join(uniseasonal)"
   ]
  },
  {
   "cell_type": "code",
   "execution_count": 45,
   "metadata": {},
   "outputs": [],
   "source": [
    "EDAMAM_app='6e9fd246'\n",
    "EDAMAM_api='48df8510bddb6aeeb43853f947ec1f02'\n",
    "def getrecipe():\n",
    "    ingredient_list = ','.join(random.sample(eng_seasonal(),2))\n",
    "    uniseasonal = []\n",
    "    for x in unseasonal():\n",
    "        uniseasonal.append('excluded='+x)\n",
    "    uniseasonal = '&'.join(uniseasonal)\n",
    "    appid = '&app_id='+EDAMAM_app\n",
    "    appapi = '&app_key='+EDAMAM_api\n",
    "    url = 'https://api.edamam.com/search?q='+ingredient_list+'&'+uniseasonal+appid+appapi\n",
    "    print(url)\n",
    "    response = requests.request(\"GET\", url)\n",
    "    recipe = response.json()['hits'][0]['recipe']\n",
    "    summary = '['+recipe['label']+']'+'('+recipe['url']+')'\n",
    "    return summary"
   ]
  },
  {
   "cell_type": "code",
   "execution_count": 47,
   "metadata": {},
   "outputs": [
    {
     "name": "stdout",
     "output_type": "stream",
     "text": [
      "https://api.edamam.com/search?q=Chards/beet leaves,broccoli&excluded=Globe artichokes&excluded=Eggplant&excluded=witloofs/Belgian endives&excluded=Broad beans&excluded=Peas&excluded=Snow pea&excluded=Mache salad&excluded=Rapunzel&excluded=Paprika&excluded=Kale&excluded=Cucumbers&excluded=Carrots&excluded=Daucus (carrots&excluded=Rhubarbs&excluded=Brussel sprouts&excluded=Salsifies&excluded=Asparagus&excluded=Tomatoes&excluded=Zucchini&app_id=6e9fd246&app_key=48df8510bddb6aeeb43853f947ec1f02\n",
      "[Healthy & Delicious: Swiss Chard and Turkey Sausage Over Polenta Recipe](http://www.seriouseats.com/recipes/2011/01/healthy-delicious-swiss-chard-and-turkey-sausage-recipe.html)\n"
     ]
    }
   ],
   "source": [
    "import requests\n",
    "summary = getrecipe()\n",
    "print(summary)"
   ]
  },
  {
   "cell_type": "code",
   "execution_count": 44,
   "metadata": {},
   "outputs": [
    {
     "data": {
      "text/plain": [
       "'[Lemon sole with runner beans](http://www.jamieoliver.com/recipes/fish-recipes/lemon-sole-with-runner-beans/)'"
      ]
     },
     "execution_count": 44,
     "metadata": {},
     "output_type": "execute_result"
    }
   ],
   "source": [
    "recipe = summary.json()['hits'][0]['recipe']\n",
    "summary = '['+recipe['label']+']'+'('+recipe['url']+')'\n",
    "summary"
   ]
  },
  {
   "cell_type": "code",
   "execution_count": 6,
   "metadata": {},
   "outputs": [],
   "source": [
    "def eng_seasonal():\n",
    "    current_month = datetime.today().month\n",
    "    seasonal = ledger.query(\"Month == \"+str(current_month)).query(\"Seasonal == True\")[\"vegetable\"].tolist()\n",
    "    return seasonal"
   ]
  },
  {
   "cell_type": "code",
   "execution_count": 40,
   "metadata": {},
   "outputs": [
    {
     "data": {
      "text/plain": [
       "['Cauliflower',\n",
       " 'Beans',\n",
       " 'Organic bush beans',\n",
       " 'Runner beans',\n",
       " 'broccoli',\n",
       " 'Chinese cabbage',\n",
       " 'Iceberg lettuce',\n",
       " 'Fennel',\n",
       " 'Cucumbers',\n",
       " 'Head lettuce',\n",
       " 'Pumpkin',\n",
       " 'Lollo Rossa',\n",
       " 'Lollo bionda',\n",
       " 'Chards/beet leaves',\n",
       " 'Carrots',\n",
       " 'Daucus (carrots',\n",
       " 'Leeks',\n",
       " 'leeks',\n",
       " 'Radicchio',\n",
       " 'Radishes',\n",
       " 'Radish',\n",
       " 'Red cabbage',\n",
       " 'Spinach',\n",
       " 'White cabbage',\n",
       " 'Celery',\n",
       " 'Tomatoes',\n",
       " 'Cabbage',\n",
       " 'Zucchini',\n",
       " 'Onions']"
      ]
     },
     "execution_count": 40,
     "metadata": {},
     "output_type": "execute_result"
    }
   ],
   "source": [
    "eng_seasonal()"
   ]
  },
  {
   "cell_type": "code",
   "execution_count": 4,
   "metadata": {},
   "outputs": [
    {
     "name": "stdout",
     "output_type": "stream",
     "text": [
      "test\n"
     ]
    }
   ],
   "source": [
    "result = getattr(vp,'tp')()"
   ]
  },
  {
   "cell_type": "code",
   "execution_count": 1,
   "metadata": {},
   "outputs": [
    {
     "ename": "NameError",
     "evalue": "name 'summary' is not defined",
     "output_type": "error",
     "traceback": [
      "\u001b[1;31m---------------------------------------------------------------------------\u001b[0m",
      "\u001b[1;31mNameError\u001b[0m                                 Traceback (most recent call last)",
      "\u001b[1;32m<ipython-input-1-79b4be61886c>\u001b[0m in \u001b[0;36m<module>\u001b[1;34m\u001b[0m\n\u001b[1;32m----> 1\u001b[1;33m \u001b[0msummary\u001b[0m\u001b[1;33m.\u001b[0m\u001b[0mjson\u001b[0m\u001b[1;33m(\u001b[0m\u001b[1;33m)\u001b[0m\u001b[1;33m\u001b[0m\u001b[1;33m\u001b[0m\u001b[0m\n\u001b[0m",
      "\u001b[1;31mNameError\u001b[0m: name 'summary' is not defined"
     ]
    }
   ],
   "source": [
    "summary.json()"
   ]
  },
  {
   "cell_type": "code",
   "execution_count": 10,
   "metadata": {},
   "outputs": [],
   "source": [
    "EDAMAM_app='6e9fd246'\n",
    "EDAMAM_api='48df8510bddb6aeeb43853f947ec1f02'\n",
    "def getrecipe():\n",
    "    ingredient_list = ','.join(random.sample(eng_seasonal(),2))\n",
    "    uniseasonal = []\n",
    "    for x in unseasonal():\n",
    "        uniseasonal.append('excluded='+x)\n",
    "    uniseasonal = '&'.join(uniseasonal)\n",
    "    appid = '&app_id='+EDAMAM_app\n",
    "    appapi = '&app_key='+EDAMAM_api\n",
    "    url = 'https://api.edamam.com/search?q='+ingredient_list+'&'+uniseasonal+appid+appapi\n",
    "    print(url)\n",
    "    response = requests.request(\"GET\", url)\n",
    "    recipe = response.json()['hits'][0]['recipe']\n",
    "    summary = '['+recipe['label']+']'+'('+recipe['url']+')'\n",
    "    image = recipe['image']\n",
    "    source = recipe['source']\n",
    "    return summary,image,source"
   ]
  },
  {
   "cell_type": "code",
   "execution_count": 11,
   "metadata": {},
   "outputs": [
    {
     "name": "stdout",
     "output_type": "stream",
     "text": [
      "https://api.edamam.com/search?q=White cabbage,Chards/beet leaves&excluded=Globe artichokes&excluded=Eggplant&excluded=witloofs/Belgian endives&excluded=Broad beans&excluded=Peas&excluded=Snow pea&excluded=Mache salad&excluded=Rapunzel&excluded=Paprika&excluded=Kale&excluded=Cucumbers&excluded=Carrots&excluded=Daucus (carrots&excluded=Rhubarbs&excluded=Brussel sprouts&excluded=Salsifies&excluded=Asparagus&excluded=Tomatoes&excluded=Zucchini&app_id=6e9fd246&app_key=48df8510bddb6aeeb43853f947ec1f02\n"
     ]
    }
   ],
   "source": [
    "import requests\n",
    "result = getrecipe()"
   ]
  },
  {
   "cell_type": "code",
   "execution_count": 12,
   "metadata": {},
   "outputs": [
    {
     "data": {
      "text/plain": [
       "('[Suite Family Greens Recipe](http://www.grouprecipes.com/79589/suite-family-greens.html)',\n",
       " 'https://www.edamam.com/web-img/dd7/dd7bcc16ad1532100a7ab4e8fa3e0f12.jpg',\n",
       " 'Group Recipes')"
      ]
     },
     "execution_count": 12,
     "metadata": {},
     "output_type": "execute_result"
    }
   ],
   "source": [
    "result"
   ]
  },
  {
   "cell_type": "code",
   "execution_count": 15,
   "metadata": {},
   "outputs": [
    {
     "data": {
      "text/plain": [
       "0.875"
      ]
     },
     "execution_count": 15,
     "metadata": {},
     "output_type": "execute_result"
    }
   ],
   "source": [
    "levenshtein('Karotte','Karotten')"
   ]
  },
  {
   "cell_type": "code",
   "execution_count": null,
   "metadata": {},
   "outputs": [],
   "source": []
  }
 ],
 "metadata": {
  "kernelspec": {
   "display_name": "Python 3",
   "language": "python",
   "name": "python3"
  },
  "language_info": {
   "codemirror_mode": {
    "name": "ipython",
    "version": 3
   },
   "file_extension": ".py",
   "mimetype": "text/x-python",
   "name": "python",
   "nbconvert_exporter": "python",
   "pygments_lexer": "ipython3",
   "version": "3.7.3"
  }
 },
 "nbformat": 4,
 "nbformat_minor": 2
}
