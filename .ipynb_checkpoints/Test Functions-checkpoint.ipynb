{
 "cells": [
  {
   "cell_type": "code",
   "execution_count": 3,
   "metadata": {},
   "outputs": [],
   "source": [
    "# Let's make a dice bot\n",
    "import random\n",
    "import time\n",
    "import logging\n",
    "import os\n",
    "import pandas as pd\n",
    "from datetime import datetime\n",
    "\n",
    "# Gemuesefunktionen\n",
    "ledger = pd.read_csv(\"gemuese_de.csv\",encoding = \"utf-8\", sep = \";\")\n",
    "def seasonal():\n",
    "    current_month = datetime.today().month\n",
    "    seasonal = ledger.query(\"Month == \"+str(current_month)).query(\"Seasonal == True\")[\"gemuese\"].tolist()\n",
    "    return seasonal\n",
    "\n",
    "def suggestion():\n",
    "    suggestion = random.choice(seasonal())\n",
    "    return suggestion\n",
    "\n",
    "def look_up(veggie):\n",
    "    approval = veggie.lower() in [x.lower() for x in seasonal()]\n",
    "    if approval:\n",
    "        approval = \"Mmmmh, Saisonal...( ͡° ͜ʖ ͡°)\"\n",
    "    else:\n",
    "        approval = \"Igitt, importiert ಠ_ಠ\"\n",
    "    return approval"
   ]
  },
  {
   "cell_type": "code",
   "execution_count": 4,
   "metadata": {},
   "outputs": [
    {
     "data": {
      "text/html": [
       "<div>\n",
       "<style scoped>\n",
       "    .dataframe tbody tr th:only-of-type {\n",
       "        vertical-align: middle;\n",
       "    }\n",
       "\n",
       "    .dataframe tbody tr th {\n",
       "        vertical-align: top;\n",
       "    }\n",
       "\n",
       "    .dataframe thead th {\n",
       "        text-align: right;\n",
       "    }\n",
       "</style>\n",
       "<table border=\"1\" class=\"dataframe\">\n",
       "  <thead>\n",
       "    <tr style=\"text-align: right;\">\n",
       "      <th></th>\n",
       "      <th>gemuese</th>\n",
       "      <th>Month</th>\n",
       "      <th>Seasonal</th>\n",
       "    </tr>\n",
       "  </thead>\n",
       "  <tbody>\n",
       "    <tr>\n",
       "      <th>0</th>\n",
       "      <td>Artischocken</td>\n",
       "      <td>1</td>\n",
       "      <td>False</td>\n",
       "    </tr>\n",
       "    <tr>\n",
       "      <th>1</th>\n",
       "      <td>Auberginen</td>\n",
       "      <td>1</td>\n",
       "      <td>False</td>\n",
       "    </tr>\n",
       "    <tr>\n",
       "      <th>2</th>\n",
       "      <td>Blumenkohl</td>\n",
       "      <td>1</td>\n",
       "      <td>False</td>\n",
       "    </tr>\n",
       "    <tr>\n",
       "      <th>3</th>\n",
       "      <td>Bohnen</td>\n",
       "      <td>1</td>\n",
       "      <td>False</td>\n",
       "    </tr>\n",
       "    <tr>\n",
       "      <th>4</th>\n",
       "      <td>Buschbohnen</td>\n",
       "      <td>1</td>\n",
       "      <td>False</td>\n",
       "    </tr>\n",
       "  </tbody>\n",
       "</table>\n",
       "</div>"
      ],
      "text/plain": [
       "        gemuese  Month  Seasonal\n",
       "0  Artischocken      1     False\n",
       "1    Auberginen      1     False\n",
       "2    Blumenkohl      1     False\n",
       "3        Bohnen      1     False\n",
       "4   Buschbohnen      1     False"
      ]
     },
     "execution_count": 4,
     "metadata": {},
     "output_type": "execute_result"
    }
   ],
   "source": [
    "ledger.head()"
   ]
  },
  {
   "cell_type": "code",
   "execution_count": 66,
   "metadata": {},
   "outputs": [
    {
     "data": {
      "text/plain": [
       "'Mmmmh, Saisonal...( ͡° ͜ʖ ͡°)'"
      ]
     },
     "execution_count": 66,
     "metadata": {},
     "output_type": "execute_result"
    }
   ],
   "source": [
    "look_up(\" kohl \".strip())"
   ]
  },
  {
   "cell_type": "code",
   "execution_count": null,
   "metadata": {},
   "outputs": [],
   "source": []
  }
 ],
 "metadata": {
  "kernelspec": {
   "display_name": "Python 3",
   "language": "python",
   "name": "python3"
  },
  "language_info": {
   "codemirror_mode": {
    "name": "ipython",
    "version": 3
   },
   "file_extension": ".py",
   "mimetype": "text/x-python",
   "name": "python",
   "nbconvert_exporter": "python",
   "pygments_lexer": "ipython3",
   "version": "3.7.3"
  }
 },
 "nbformat": 4,
 "nbformat_minor": 2
}
