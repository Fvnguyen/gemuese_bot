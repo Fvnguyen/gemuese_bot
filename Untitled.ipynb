{
 "cells": [
  {
   "cell_type": "code",
   "execution_count": 50,
   "metadata": {},
   "outputs": [],
   "source": [
    "# Let's make a dice bot\n",
    "import random\n",
    "import time\n",
    "import logging\n",
    "import os\n",
    "import pandas as pd\n",
    "from datetime import datetime\n",
    "\n",
    "# Gemuesefunktionen\n",
    "ledger = pd.read_csv(\"gemuese.csv\",encoding = \"utf-8\", sep = \";\")\n",
    "def seasonal():\n",
    "    current_month = datetime.today().month\n",
    "    seasonal = ledger.query(\"Month == \"+str(current_month)).query(\"Seasonal == True\")[\"gemuese\"].tolist()\n",
    "    return seasonal\n",
    "\n",
    "def suggestion():\n",
    "    suggestion = random.choice(seasonal())\n",
    "    return suggestion\n",
    "\n",
    "def look_up(veggie):\n",
    "    approval = veggie in seasonal()\n",
    "    if approval:\n",
    "        approval = \"Mmmmh, Saisonal...( ͡° ͜ʖ ͡°)\"\n",
    "    else:\n",
    "        approval = \"Igitt, importiert ಠ_ಠ\"\n",
    "    return approval"
   ]
  },
  {
   "cell_type": "code",
   "execution_count": 51,
   "metadata": {},
   "outputs": [
    {
     "data": {
      "text/plain": [
       "'Paprika'"
      ]
     },
     "execution_count": 51,
     "metadata": {},
     "output_type": "execute_result"
    }
   ],
   "source": [
    "suggestion()"
   ]
  },
  {
   "cell_type": "code",
   "execution_count": null,
   "metadata": {},
   "outputs": [],
   "source": []
  }
 ],
 "metadata": {
  "kernelspec": {
   "display_name": "Python 3",
   "language": "python",
   "name": "python3"
  },
  "language_info": {
   "codemirror_mode": {
    "name": "ipython",
    "version": 3
   },
   "file_extension": ".py",
   "mimetype": "text/x-python",
   "name": "python",
   "nbconvert_exporter": "python",
   "pygments_lexer": "ipython3",
   "version": "3.7.3"
  }
 },
 "nbformat": 4,
 "nbformat_minor": 2
}
